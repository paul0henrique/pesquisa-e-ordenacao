{
  "nbformat": 4,
  "nbformat_minor": 0,
  "metadata": {
    "colab": {
      "provenance": []
    },
    "kernelspec": {
      "name": "python3",
      "display_name": "Python 3"
    },
    "language_info": {
      "name": "python"
    }
  },
  "cells": [
    {
      "cell_type": "markdown",
      "source": [
        "Instituto Federal de Educação, Ciência e Tecnologia do Ceará"
      ],
      "metadata": {
        "id": "N0BRElSDqU0E"
      }
    },
    {
      "cell_type": "markdown",
      "source": [
        "Curso: Bacharelado em Engenharia de Computação"
      ],
      "metadata": {
        "id": "JgQmOVVAqxYh"
      }
    },
    {
      "cell_type": "markdown",
      "source": [
        "Componente curricular: Pesquisa e Ordenação"
      ],
      "metadata": {
        "id": "nXPvWh7nq0VI"
      }
    },
    {
      "cell_type": "markdown",
      "source": [
        "Docente: Ronaldo Fernandes Ramos"
      ],
      "metadata": {
        "id": "wEpqpQxbq4CW"
      }
    },
    {
      "cell_type": "markdown",
      "source": [
        "Discente: Paulo Henrique de Sousa Melo"
      ],
      "metadata": {
        "id": "y8lxS0OFq8GV"
      }
    },
    {
      "cell_type": "markdown",
      "source": [
        "# 🗨 Estudo do Selection Sort "
      ],
      "metadata": {
        "id": "brIHm6f6cVnn"
      }
    },
    {
      "cell_type": "markdown",
      "source": [
        "📑 Fundamentação teórica \n",
        "\n",
        "> O Selection - ou Método da Seleção - consiste em, dada uma lista, analisar qual é o menor elemento presente, para, em seguida, colocá-lo na primeira posição da lista. Na sequência, esse passo é repetido para o segundo menor elemento e assim por diante.\n",
        "\n"
      ],
      "metadata": {
        "id": "VQTIfzgVt0e0"
      }
    },
    {
      "cell_type": "markdown",
      "source": [
        "\n",
        "\n",
        "---\n",
        "\n"
      ],
      "metadata": {
        "id": "Z27C3ooE7-oR"
      }
    },
    {
      "cell_type": "markdown",
      "source": [],
      "metadata": {
        "id": "5RwqN9KZplOg"
      }
    },
    {
      "cell_type": "markdown",
      "source": [
        "🧠 Complexidade \n",
        "\n",
        "> Pior caso (lista em ordem decrescente): O(n²)"
      ],
      "metadata": {
        "id": "cZTN0dFJzg7W"
      }
    },
    {
      "cell_type": "markdown",
      "source": [
        "> Melhor caso (lista já ordenada): também será O(n²), pois é preciso executar os dois laços."
      ],
      "metadata": {
        "id": "8M3OaCgJ15_6"
      }
    },
    {
      "cell_type": "markdown",
      "source": [
        "\n",
        "\n",
        "---\n",
        "\n"
      ],
      "metadata": {
        "id": "PhmI8LFT8B9u"
      }
    },
    {
      "cell_type": "markdown",
      "source": [
        "📖 Importação de bibliotecas "
      ],
      "metadata": {
        "id": "eJmjphH57zzL"
      }
    },
    {
      "cell_type": "markdown",
      "source": [
        "Antes de apresentar a implementação do algoritmo, farei as importações das bibliotecas que serão úteis para a geração das listas a serem usadas e dos gráficos."
      ],
      "metadata": {
        "id": "Dhj5MfBp7jiW"
      }
    },
    {
      "cell_type": "code",
      "source": [
        "import numpy as np"
      ],
      "metadata": {
        "id": "r5FIANWh8H5Z"
      },
      "execution_count": null,
      "outputs": []
    },
    {
      "cell_type": "code",
      "source": [
        "import matplotlib.pyplot as plt"
      ],
      "metadata": {
        "id": "BIGZwhxy8LLR"
      },
      "execution_count": null,
      "outputs": []
    },
    {
      "cell_type": "code",
      "source": [
        "from time import perf_counter"
      ],
      "metadata": {
        "id": "aCr0piin8QGc"
      },
      "execution_count": null,
      "outputs": []
    },
    {
      "cell_type": "markdown",
      "source": [
        "\n",
        "\n",
        "---\n",
        "\n"
      ],
      "metadata": {
        "id": "eD-EK3bn8cBQ"
      }
    },
    {
      "cell_type": "markdown",
      "source": [
        "💻 Implementação do algoritmo "
      ],
      "metadata": {
        "id": "_dronIEPaaaY"
      }
    },
    {
      "cell_type": "code",
      "execution_count": null,
      "metadata": {
        "id": "-SA5hNwcWXF3"
      },
      "outputs": [],
      "source": [
        "def selection_sort(lista):\n",
        "  for posicao in range(len(lista)-1):\n",
        "    indice_menor = posicao\n",
        "    for i in range (posicao, len(lista)):\n",
        "      if lista[i] < lista[indice_menor]:\n",
        "        indice_menor = i\n",
        "    if lista[posicao] > lista[indice_menor]:\n",
        "      lista[posicao], lista[indice_menor] = lista[indice_menor], lista[posicao]\n",
        "  return lista"
      ]
    },
    {
      "cell_type": "markdown",
      "source": [
        "⏲ Tempo gasto pelo algoritmo "
      ],
      "metadata": {
        "id": "5BmC5rbCZ2G2"
      }
    },
    {
      "cell_type": "markdown",
      "source": [
        "A função medir_tempo irá, a partir  de uma lista de tamanhos, gerar listas aleatórias com os tamanhos dados. Em seguida, fazendo uso da função perf_counter, analisará o tempo gasto pelo algoritmo Selection Sort."
      ],
      "metadata": {
        "id": "Qd7QXMg3-8Bd"
      }
    },
    {
      "cell_type": "code",
      "source": [
        "def medir_tempo():\n",
        "  tempos = []\n",
        "  tamanhos = [1000, 2000, 3000, 4000, 5000, 8000, 11000, 15000]\n",
        "  for tamanho in tamanhos:\n",
        "    lista = np.random.randint(0,10000, tamanho)\n",
        "    inicio = perf_counter()\n",
        "    selection_sort(lista)\n",
        "    fim = perf_counter()\n",
        "    duracao = fim - inicio\n",
        "    tempos.append(duracao)\n",
        "  return tempos, tamanhos"
      ],
      "metadata": {
        "id": "CSji3n5HZ9IN"
      },
      "execution_count": null,
      "outputs": []
    },
    {
      "cell_type": "code",
      "source": [
        "tt, ta = medir_tempo()"
      ],
      "metadata": {
        "id": "l16tNjg5BLyt"
      },
      "execution_count": null,
      "outputs": []
    },
    {
      "cell_type": "markdown",
      "source": [
        "🔢 Geração das listas no pior caso (lista em ordem decrescente) "
      ],
      "metadata": {
        "id": "80ptEYJa_v6_"
      }
    },
    {
      "cell_type": "markdown",
      "source": [
        "Aqui, serão criadas listas crecentes com os tamanhos dados. Em seguida, utilizando o método flipud, do NumPy, colocaremos as listas em ordem decrescente, uma vez que se trata do pior caso do Selection Sort."
      ],
      "metadata": {
        "id": "lfw6SdxxpiUO"
      }
    },
    {
      "cell_type": "code",
      "source": [
        "def medir_tempo_pior_caso():\n",
        "  tempos_pior_caso = []\n",
        "  tamanhos_pior_caso = [1000, 2000, 3000, 4000, 5000, 8000, 11000, 15000]\n",
        "  for tamanho in tamanhos_pior_caso:\n",
        "    lista = np.arange(tamanho+1)\n",
        "    pior_caso = np.flipud(lista)\n",
        "    inicio = perf_counter()\n",
        "    selection_sort(pior_caso)\n",
        "    fim = perf_counter()\n",
        "    duracao = fim - inicio\n",
        "    tempos_pior_caso.append(duracao)\n",
        "  return tempos_pior_caso, tamanhos_pior_caso"
      ],
      "metadata": {
        "id": "1d1ZdaRO_1eq"
      },
      "execution_count": null,
      "outputs": []
    },
    {
      "cell_type": "code",
      "source": [
        "tt_pior_caso, ta_pior_caso = medir_tempo_pior_caso()"
      ],
      "metadata": {
        "id": "EiM-_XpADrz3"
      },
      "execution_count": null,
      "outputs": []
    },
    {
      "cell_type": "markdown",
      "source": [
        "🎢 Plotando no gráfico"
      ],
      "metadata": {
        "id": "YOpsCvi_EeU3"
      }
    },
    {
      "cell_type": "code",
      "source": [
        "plt.plot(list(range(len(ta))),tt, label=\"Lista aleatória\")\n",
        "plt.plot(list(range(len(ta_pior_caso))),tt_pior_caso, label=\"Lista invertida\")\n",
        "plt.legend()\n",
        "plt.ylabel('Tamanho')\n",
        "plt.xlabel('Tempo')\n",
        "plt.title('Tamanho da lista x Tempo para ordenação')\n",
        "plt.show()"
      ],
      "metadata": {
        "colab": {
          "base_uri": "https://localhost:8080/",
          "height": 295
        },
        "id": "k71qcs2KEE3g",
        "outputId": "b0705f32-fa6f-4823-ff51-d863a1a91e57"
      },
      "execution_count": null,
      "outputs": [
        {
          "output_type": "display_data",
          "data": {
            "text/plain": [
              "<Figure size 432x288 with 1 Axes>"
            ],
            "image/png": "[encoded data removed]"
          },
          "metadata": {
            "needs_background": "light"
          }
        }
      ]
    }
  ]
}